{
 "cells": [
  {
   "cell_type": "markdown",
   "id": "c3f4695f",
   "metadata": {},
   "source": [
    "https://docs.python.org/3/library/json.html\n",
    "\n",
    "### Json means : - javascript object Notation"
   ]
  },
  {
   "cell_type": "code",
   "execution_count": 2,
   "id": "1d3cfad2",
   "metadata": {},
   "outputs": [],
   "source": [
    "import json"
   ]
  },
  {
   "cell_type": "code",
   "execution_count": 3,
   "id": "68788b65",
   "metadata": {},
   "outputs": [],
   "source": [
    "json_data = '{\"a\":1, \"b\":2, \"c\":3}'"
   ]
  },
  {
   "cell_type": "code",
   "execution_count": 4,
   "id": "028497d0",
   "metadata": {},
   "outputs": [],
   "source": [
    "x = json.loads(json_data)"
   ]
  },
  {
   "cell_type": "code",
   "execution_count": 5,
   "id": "f7614443",
   "metadata": {},
   "outputs": [
    {
     "data": {
      "text/plain": [
       "{'a': 1, 'b': 2, 'c': 3}"
      ]
     },
     "execution_count": 5,
     "metadata": {},
     "output_type": "execute_result"
    }
   ],
   "source": [
    "x"
   ]
  },
  {
   "cell_type": "code",
   "execution_count": 7,
   "id": "db3a67b3",
   "metadata": {},
   "outputs": [
    {
     "data": {
      "text/plain": [
       "2"
      ]
     },
     "execution_count": 7,
     "metadata": {},
     "output_type": "execute_result"
    }
   ],
   "source": [
    "x['b']"
   ]
  },
  {
   "cell_type": "code",
   "execution_count": null,
   "id": "c36e5a4b",
   "metadata": {},
   "outputs": [],
   "source": []
  }
 ],
 "metadata": {
  "kernelspec": {
   "display_name": "Python 3 (ipykernel)",
   "language": "python",
   "name": "python3"
  },
  "language_info": {
   "codemirror_mode": {
    "name": "ipython",
    "version": 3
   },
   "file_extension": ".py",
   "mimetype": "text/x-python",
   "name": "python",
   "nbconvert_exporter": "python",
   "pygments_lexer": "ipython3",
   "version": "3.9.13"
  }
 },
 "nbformat": 4,
 "nbformat_minor": 5
}
