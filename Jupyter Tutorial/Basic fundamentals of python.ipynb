{
 "cells": [
  {
   "cell_type": "code",
   "execution_count": 1,
   "id": "d7843d51",
   "metadata": {},
   "outputs": [],
   "source": [
    "a1 = \"Hello World\""
   ]
  },
  {
   "cell_type": "code",
   "execution_count": 2,
   "id": "18b882f8",
   "metadata": {},
   "outputs": [
    {
     "data": {
      "text/plain": [
       "'Hello World'"
      ]
     },
     "execution_count": 2,
     "metadata": {},
     "output_type": "execute_result"
    }
   ],
   "source": [
    "a1\n"
   ]
  },
  {
   "cell_type": "code",
   "execution_count": 3,
   "id": "d079109c",
   "metadata": {},
   "outputs": [
    {
     "data": {
      "text/plain": [
       "str"
      ]
     },
     "execution_count": 3,
     "metadata": {},
     "output_type": "execute_result"
    }
   ],
   "source": [
    "type(a1)"
   ]
  },
  {
   "cell_type": "code",
   "execution_count": 4,
   "id": "c33663c5",
   "metadata": {},
   "outputs": [],
   "source": [
    "string = \"my name is rajesh\""
   ]
  },
  {
   "cell_type": "code",
   "execution_count": 5,
   "id": "4df9c1d3",
   "metadata": {},
   "outputs": [
    {
     "data": {
      "text/plain": [
       "' '"
      ]
     },
     "execution_count": 5,
     "metadata": {},
     "output_type": "execute_result"
    }
   ],
   "source": [
    "string[10]"
   ]
  },
  {
   "cell_type": "code",
   "execution_count": 6,
   "id": "08eaa127",
   "metadata": {},
   "outputs": [
    {
     "data": {
      "text/plain": [
       "'h'"
      ]
     },
     "execution_count": 6,
     "metadata": {},
     "output_type": "execute_result"
    }
   ],
   "source": [
    "string[-1]"
   ]
  },
  {
   "cell_type": "code",
   "execution_count": 7,
   "id": "c2aedec4",
   "metadata": {},
   "outputs": [
    {
     "data": {
      "text/plain": [
       "' '"
      ]
     },
     "execution_count": 7,
     "metadata": {},
     "output_type": "execute_result"
    }
   ],
   "source": [
    "string[10]"
   ]
  },
  {
   "cell_type": "code",
   "execution_count": 8,
   "id": "99c20790",
   "metadata": {},
   "outputs": [
    {
     "data": {
      "text/plain": [
       "'r'"
      ]
     },
     "execution_count": 8,
     "metadata": {},
     "output_type": "execute_result"
    }
   ],
   "source": [
    "string[11]"
   ]
  },
  {
   "cell_type": "code",
   "execution_count": 9,
   "id": "2f1aebf2",
   "metadata": {},
   "outputs": [
    {
     "data": {
      "text/plain": [
       "'Hello World'"
      ]
     },
     "execution_count": 9,
     "metadata": {},
     "output_type": "execute_result"
    }
   ],
   "source": [
    "a1"
   ]
  },
  {
   "cell_type": "code",
   "execution_count": 10,
   "id": "686e61e1",
   "metadata": {},
   "outputs": [
    {
     "data": {
      "text/plain": [
       "'hello world'"
      ]
     },
     "execution_count": 10,
     "metadata": {},
     "output_type": "execute_result"
    }
   ],
   "source": [
    "a1.lower()"
   ]
  },
  {
   "cell_type": "code",
   "execution_count": 11,
   "id": "277e3f96",
   "metadata": {},
   "outputs": [
    {
     "data": {
      "text/plain": [
       "'HELLO WORLD'"
      ]
     },
     "execution_count": 11,
     "metadata": {},
     "output_type": "execute_result"
    }
   ],
   "source": [
    "a1.upper()"
   ]
  },
  {
   "cell_type": "code",
   "execution_count": 12,
   "id": "d27630f6",
   "metadata": {},
   "outputs": [
    {
     "data": {
      "text/plain": [
       "'pello World'"
      ]
     },
     "execution_count": 12,
     "metadata": {},
     "output_type": "execute_result"
    }
   ],
   "source": [
    "a1.replace(\"H\",\"p\")"
   ]
  },
  {
   "cell_type": "code",
   "execution_count": 13,
   "id": "2f01d2fc",
   "metadata": {},
   "outputs": [
    {
     "data": {
      "text/plain": [
       "2"
      ]
     },
     "execution_count": 13,
     "metadata": {},
     "output_type": "execute_result"
    }
   ],
   "source": [
    "a1.count(\"o\")"
   ]
  },
  {
   "cell_type": "code",
   "execution_count": 14,
   "id": "4996ca6d",
   "metadata": {},
   "outputs": [
    {
     "data": {
      "text/plain": [
       "1"
      ]
     },
     "execution_count": 14,
     "metadata": {},
     "output_type": "execute_result"
    }
   ],
   "source": [
    "a1.find(\"e\")"
   ]
  },
  {
   "cell_type": "code",
   "execution_count": 15,
   "id": "c46b462d",
   "metadata": {},
   "outputs": [],
   "source": [
    "s1 =(\"The Student name are sam,john,nisha,vicky\")"
   ]
  },
  {
   "cell_type": "code",
   "execution_count": 16,
   "id": "dd598720",
   "metadata": {},
   "outputs": [
    {
     "data": {
      "text/plain": [
       "['The Student name are sam', 'john', 'nisha', 'vicky']"
      ]
     },
     "execution_count": 16,
     "metadata": {},
     "output_type": "execute_result"
    }
   ],
   "source": [
    "s1.split(\",\")"
   ]
  },
  {
   "cell_type": "code",
   "execution_count": 17,
   "id": "ea080501",
   "metadata": {},
   "outputs": [],
   "source": [
    "tup1 =(\"john\", 1 , True, 45 , \"a\" , False)"
   ]
  },
  {
   "cell_type": "code",
   "execution_count": 18,
   "id": "abc0242e",
   "metadata": {},
   "outputs": [
    {
     "data": {
      "text/plain": [
       "('john', 1, True, 45, 'a', False)"
      ]
     },
     "execution_count": 18,
     "metadata": {},
     "output_type": "execute_result"
    }
   ],
   "source": [
    "tup1"
   ]
  },
  {
   "cell_type": "code",
   "execution_count": 19,
   "id": "ae7957de",
   "metadata": {},
   "outputs": [
    {
     "data": {
      "text/plain": [
       "tuple"
      ]
     },
     "execution_count": 19,
     "metadata": {},
     "output_type": "execute_result"
    }
   ],
   "source": [
    "type(tup1)"
   ]
  },
  {
   "cell_type": "code",
   "execution_count": 20,
   "id": "e8182c06",
   "metadata": {},
   "outputs": [
    {
     "data": {
      "text/plain": [
       "False"
      ]
     },
     "execution_count": 20,
     "metadata": {},
     "output_type": "execute_result"
    }
   ],
   "source": [
    "tup1[-1]"
   ]
  },
  {
   "cell_type": "code",
   "execution_count": 21,
   "id": "270a2ac7",
   "metadata": {},
   "outputs": [
    {
     "data": {
      "text/plain": [
       "(True, 45, 'a')"
      ]
     },
     "execution_count": 21,
     "metadata": {},
     "output_type": "execute_result"
    }
   ],
   "source": [
    "tup1[2:5]"
   ]
  },
  {
   "cell_type": "code",
   "execution_count": 22,
   "id": "7bb0a607",
   "metadata": {},
   "outputs": [
    {
     "data": {
      "text/plain": [
       "6"
      ]
     },
     "execution_count": 22,
     "metadata": {},
     "output_type": "execute_result"
    }
   ],
   "source": [
    "len(tup1)"
   ]
  },
  {
   "cell_type": "code",
   "execution_count": 23,
   "id": "5936bd29",
   "metadata": {},
   "outputs": [],
   "source": [
    "tup1 =(1,2,3)\n",
    "tup2 =(4,5,6)"
   ]
  },
  {
   "cell_type": "code",
   "execution_count": 24,
   "id": "0a74a11b",
   "metadata": {},
   "outputs": [
    {
     "data": {
      "text/plain": [
       "(1, 2, 3, 4, 5, 6)"
      ]
     },
     "execution_count": 24,
     "metadata": {},
     "output_type": "execute_result"
    }
   ],
   "source": [
    "tup1+tup2"
   ]
  },
  {
   "cell_type": "code",
   "execution_count": 25,
   "id": "4b554355",
   "metadata": {},
   "outputs": [
    {
     "data": {
      "text/plain": [
       "(1, 2, 3, 1, 2, 3, 1, 2, 3, 1, 2, 3)"
      ]
     },
     "execution_count": 25,
     "metadata": {},
     "output_type": "execute_result"
    }
   ],
   "source": [
    "tup1*4"
   ]
  },
  {
   "cell_type": "code",
   "execution_count": 26,
   "id": "74f8d64f",
   "metadata": {},
   "outputs": [
    {
     "data": {
      "text/plain": [
       "(1, 2, 3, 1, 2, 3, 1, 2, 3, 4, 5, 6, 4, 5, 6)"
      ]
     },
     "execution_count": 26,
     "metadata": {},
     "output_type": "execute_result"
    }
   ],
   "source": [
    "tup1*3 + tup2*2"
   ]
  },
  {
   "cell_type": "code",
   "execution_count": 27,
   "id": "d7b3c8b6",
   "metadata": {},
   "outputs": [
    {
     "data": {
      "text/plain": [
       "1"
      ]
     },
     "execution_count": 27,
     "metadata": {},
     "output_type": "execute_result"
    }
   ],
   "source": [
    "min(tup1)"
   ]
  },
  {
   "cell_type": "code",
   "execution_count": 28,
   "id": "95b6230e",
   "metadata": {},
   "outputs": [
    {
     "data": {
      "text/plain": [
       "3"
      ]
     },
     "execution_count": 28,
     "metadata": {},
     "output_type": "execute_result"
    }
   ],
   "source": [
    "max(tup1)"
   ]
  },
  {
   "cell_type": "code",
   "execution_count": 29,
   "id": "60ccaeb5",
   "metadata": {},
   "outputs": [
    {
     "data": {
      "text/plain": [
       "tuple"
      ]
     },
     "execution_count": 29,
     "metadata": {},
     "output_type": "execute_result"
    }
   ],
   "source": [
    "type(tup1)"
   ]
  },
  {
   "cell_type": "code",
   "execution_count": 30,
   "id": "bce44379",
   "metadata": {},
   "outputs": [
    {
     "ename": "NameError",
     "evalue": "name 'list1' is not defined",
     "output_type": "error",
     "traceback": [
      "\u001b[1;31m---------------------------------------------------------------------------\u001b[0m",
      "\u001b[1;31mNameError\u001b[0m                                 Traceback (most recent call last)",
      "\u001b[1;32m~\\AppData\\Local\\Temp\\ipykernel_10020\\866546473.py\u001b[0m in \u001b[0;36m<module>\u001b[1;34m\u001b[0m\n\u001b[1;32m----> 1\u001b[1;33m \u001b[0mlist1\u001b[0m\u001b[1;33m\u001b[0m\u001b[1;33m\u001b[0m\u001b[0m\n\u001b[0m",
      "\u001b[1;31mNameError\u001b[0m: name 'list1' is not defined"
     ]
    }
   ],
   "source": [
    "list1"
   ]
  },
  {
   "cell_type": "code",
   "execution_count": null,
   "id": "96daa0d3",
   "metadata": {},
   "outputs": [],
   "source": [
    "list1"
   ]
  },
  {
   "cell_type": "code",
   "execution_count": null,
   "id": "63770b4e",
   "metadata": {},
   "outputs": [],
   "source": [
    "type(list1)"
   ]
  },
  {
   "cell_type": "code",
   "execution_count": null,
   "id": "16e470d6",
   "metadata": {},
   "outputs": [],
   "source": [
    "list1[1]"
   ]
  },
  {
   "cell_type": "code",
   "execution_count": null,
   "id": "dd10ee5e",
   "metadata": {},
   "outputs": [],
   "source": [
    "list1[2:5]"
   ]
  },
  {
   "cell_type": "code",
   "execution_count": null,
   "id": "b9bbcc94",
   "metadata": {},
   "outputs": [],
   "source": [
    "list1.pop()"
   ]
  },
  {
   "cell_type": "code",
   "execution_count": null,
   "id": "1bceffd9",
   "metadata": {},
   "outputs": [],
   "source": [
    "list1.pop()"
   ]
  },
  {
   "cell_type": "code",
   "execution_count": null,
   "id": "37502d8e",
   "metadata": {},
   "outputs": [],
   "source": [
    "list1"
   ]
  },
  {
   "cell_type": "code",
   "execution_count": null,
   "id": "4ca60205",
   "metadata": {},
   "outputs": [],
   "source": [
    "list1.pop()"
   ]
  },
  {
   "cell_type": "code",
   "execution_count": null,
   "id": "b7753421",
   "metadata": {},
   "outputs": [],
   "source": [
    "list1.pop()"
   ]
  },
  {
   "cell_type": "code",
   "execution_count": null,
   "id": "a3fbbfae",
   "metadata": {},
   "outputs": [],
   "source": [
    "list1"
   ]
  },
  {
   "cell_type": "code",
   "execution_count": null,
   "id": "eca46142",
   "metadata": {},
   "outputs": [],
   "source": [
    "list1.append(\"john\")"
   ]
  },
  {
   "cell_type": "code",
   "execution_count": null,
   "id": "9644c99d",
   "metadata": {},
   "outputs": [],
   "source": [
    "list1"
   ]
  },
  {
   "cell_type": "code",
   "execution_count": null,
   "id": "fdaab12f",
   "metadata": {},
   "outputs": [],
   "source": [
    "list1.reverse()"
   ]
  },
  {
   "cell_type": "code",
   "execution_count": null,
   "id": "9583833c",
   "metadata": {},
   "outputs": [],
   "source": [
    "list1"
   ]
  },
  {
   "cell_type": "code",
   "execution_count": null,
   "id": "b7b44198",
   "metadata": {},
   "outputs": [],
   "source": [
    "list1.insert(2,\"Rajesh\") \n",
    "list1"
   ]
  },
  {
   "cell_type": "code",
   "execution_count": null,
   "id": "c3f1d13a",
   "metadata": {},
   "outputs": [],
   "source": [
    "l1 =['banana','mango', 'apple','bitterroot']\n",
    "l1.sort()\n",
    "l1"
   ]
  },
  {
   "cell_type": "code",
   "execution_count": null,
   "id": "b6839e4d",
   "metadata": {},
   "outputs": [],
   "source": [
    "list1 = ['Python', 1, 2, 3, 'Data', True]"
   ]
  },
  {
   "cell_type": "code",
   "execution_count": null,
   "id": "f7b8aed8",
   "metadata": {},
   "outputs": [],
   "source": [
    "print(list1[1:len(list1):2])"
   ]
  },
  {
   "cell_type": "code",
   "execution_count": null,
   "id": "591fe2e1",
   "metadata": {},
   "outputs": [],
   "source": [
    "l1 = ['R', 'Python', 'C', 'Java', 'Excel', 'Data']"
   ]
  },
  {
   "cell_type": "code",
   "execution_count": null,
   "id": "a2d6b2e6",
   "metadata": {},
   "outputs": [],
   "source": [
    "element_to_remove = 'C'\n",
    "l1 = [x for x in l1 if x != element_to_remove]\n",
    "\n",
    "# Print the modified list\n",
    "print(f\"List after removing {element_to_remove}: {l1}\")"
   ]
  },
  {
   "cell_type": "code",
   "execution_count": null,
   "id": "693b0a07",
   "metadata": {},
   "outputs": [],
   "source": [
    "l1 = ['R', 'Python', 'C', 'Java', 'Excel', 'Data']"
   ]
  },
  {
   "cell_type": "code",
   "execution_count": null,
   "id": "eebb2fd2",
   "metadata": {},
   "outputs": [],
   "source": [
    "# d. Remove element '5' from the list\n",
    "Remove1 = 'C'\n",
    "if Remove1 in l1:\n",
    "    l1.remove(Remove1)\n",
    "else:\n",
    "    print(f\"{Remove1} not found in the list.\")\n",
    "\n",
    "# Print the modified list after removing '5'\n",
    "print(f\"List after removing {Remove1}: {l1}\")"
   ]
  },
  {
   "cell_type": "code",
   "execution_count": null,
   "id": "1f100417",
   "metadata": {},
   "outputs": [],
   "source": [
    "friuts ={\"apple\":50, \"Banana\":40, \"Mango\":60, \"watermelon\":40}"
   ]
  },
  {
   "cell_type": "code",
   "execution_count": null,
   "id": "82c18deb",
   "metadata": {},
   "outputs": [],
   "source": [
    "type(friuts)"
   ]
  },
  {
   "cell_type": "code",
   "execution_count": null,
   "id": "33c357e2",
   "metadata": {},
   "outputs": [],
   "source": [
    "friuts[\"orange\"]=50"
   ]
  },
  {
   "cell_type": "code",
   "execution_count": null,
   "id": "1bdda617",
   "metadata": {},
   "outputs": [],
   "source": [
    "friuts"
   ]
  },
  {
   "cell_type": "code",
   "execution_count": null,
   "id": "48df524d",
   "metadata": {},
   "outputs": [],
   "source": [
    "friuts.pop(\"orange\")\n",
    "friuts"
   ]
  },
  {
   "cell_type": "code",
   "execution_count": null,
   "id": "597b60fa",
   "metadata": {},
   "outputs": [],
   "source": [
    "friuts1 ={'apple': 50, 'Banana': 40}\n",
    "friuts2 ={'Mango': 60, 'watermelon': 40, 'orange': 50}\n",
    "friuts1.update(friuts2)"
   ]
  },
  {
   "cell_type": "code",
   "execution_count": null,
   "id": "eb7c3fb2",
   "metadata": {},
   "outputs": [],
   "source": [
    "friuts1"
   ]
  },
  {
   "cell_type": "code",
   "execution_count": null,
   "id": "1fb76197",
   "metadata": {},
   "outputs": [],
   "source": [
    "friuts1.keys()"
   ]
  },
  {
   "cell_type": "code",
   "execution_count": null,
   "id": "d6f08b94",
   "metadata": {},
   "outputs": [],
   "source": [
    "friuts.values()"
   ]
  },
  {
   "cell_type": "code",
   "execution_count": null,
   "id": "c60d983a",
   "metadata": {},
   "outputs": [],
   "source": [
    "#sets  -- in sets duplicate are not allowed\n",
    "s1= {1, 'sparta', 'sparta',1}\n",
    "s1"
   ]
  },
  {
   "cell_type": "code",
   "execution_count": null,
   "id": "f848823c",
   "metadata": {},
   "outputs": [],
   "source": [
    "# adding new elements in set\n",
    "s1={1,'a',True,'b',False}\n",
    "s1.add(\"hello\")\n",
    "s1"
   ]
  },
  {
   "cell_type": "code",
   "execution_count": null,
   "id": "05801001",
   "metadata": {},
   "outputs": [],
   "source": [
    "#updating multiple elements\n",
    "s1={1,'a',True,'b',False}\n",
    "s1.update([10,20,30])\n",
    "s1"
   ]
  },
  {
   "cell_type": "code",
   "execution_count": null,
   "id": "faf3b957",
   "metadata": {},
   "outputs": [],
   "source": [
    "#removing an element\n",
    "s1={1,'a',True,'b',False}\n",
    "s1.remove('a')"
   ]
  },
  {
   "cell_type": "code",
   "execution_count": null,
   "id": "19a28a02",
   "metadata": {},
   "outputs": [],
   "source": [
    "s1"
   ]
  },
  {
   "cell_type": "code",
   "execution_count": null,
   "id": "5ca96296",
   "metadata": {},
   "outputs": [],
   "source": [
    "#union of two sets\n",
    "s1 = {1,2,3,4}\n",
    "s2 = {'a', 'b', 'c', 'd'}\n",
    "s1.union(s2)"
   ]
  },
  {
   "cell_type": "code",
   "execution_count": null,
   "id": "b8555785",
   "metadata": {},
   "outputs": [],
   "source": [
    "#intersection of two sets\n",
    "s1 = {1,2,3,4}\n",
    "s2 = {4,8,9,72,1}\n",
    "s1.intersection(s2)"
   ]
  },
  {
   "cell_type": "code",
   "execution_count": null,
   "id": "d2a3ccd8",
   "metadata": {},
   "outputs": [],
   "source": [
    "27%2==1"
   ]
  },
  {
   "cell_type": "code",
   "execution_count": null,
   "id": "b84a70ef",
   "metadata": {},
   "outputs": [],
   "source": [
    "27//2"
   ]
  },
  {
   "cell_type": "code",
   "execution_count": null,
   "id": "852691f6",
   "metadata": {},
   "outputs": [],
   "source": [
    "x = 5\n",
    "x += 5\n",
    "print(\"Updated value of x after (x+=5) is\", x)"
   ]
  },
  {
   "cell_type": "code",
   "execution_count": null,
   "id": "d9549682",
   "metadata": {},
   "outputs": [],
   "source": [
    "x = 5\n",
    "x -= 2\n",
    "print(\"Updated value of x after (x-=5) is\", x)"
   ]
  },
  {
   "cell_type": "code",
   "execution_count": null,
   "id": "f0f5853d",
   "metadata": {},
   "outputs": [],
   "source": [
    "x = 5\n",
    "\n",
    "print(\"Updated value of x is\", x)"
   ]
  },
  {
   "cell_type": "code",
   "execution_count": null,
   "id": "954df611",
   "metadata": {},
   "outputs": [],
   "source": [
    "# '+=' operator  (Adds the values on either side and assigns it to the expressions on the left)\n",
    "x += 5\n",
    "print(\"Updated value of x after (x+=5) is\", x)"
   ]
  },
  {
   "cell_type": "code",
   "execution_count": null,
   "id": "b55b39b7",
   "metadata": {},
   "outputs": [],
   "source": [
    "# '-=' operator  (subtract 2 from the latest value of x and assigns it to x which is 10)\n",
    "x -= 2\n",
    "print(\"Updated value of x after (x/=5) is\", x)"
   ]
  },
  {
   "cell_type": "code",
   "execution_count": null,
   "id": "0629d93a",
   "metadata": {},
   "outputs": [],
   "source": [
    "# '*=' operator  (multiplies the current value of x with 2 and assigns it to x which is 8)\n",
    "x *= 2\n",
    "print(\"Updated value of x after (x*=5) is\", x)"
   ]
  },
  {
   "cell_type": "code",
   "execution_count": null,
   "id": "fb639cfe",
   "metadata": {},
   "outputs": [],
   "source": [
    "# '/=' operator  (multiplies the current value of x with 2 and assigns it to x which is 16.0)\n",
    "x /= 2\n",
    "print(\"Updated value of x after (x/=5) is\", x)"
   ]
  },
  {
   "cell_type": "code",
   "execution_count": null,
   "id": "8b50f330",
   "metadata": {},
   "outputs": [],
   "source": [
    "a = 21\n",
    "b = 8\n",
    "c = 20\n",
    "d = 5\n",
    "(a%b) + (c//b) -d"
   ]
  },
  {
   "cell_type": "markdown",
   "id": "5dd43a64",
   "metadata": {},
   "source": [
    "i+=1 is the same as i=i+1, whereas i=+1 just means i=(+1)\n"
   ]
  },
  {
   "cell_type": "code",
   "execution_count": null,
   "id": "7f9f3f13",
   "metadata": {},
   "outputs": [],
   "source": [
    "# 'and' operators\n",
    "x = 11\n",
    "a = x > 10 and x < 20\n",
    "print(a)"
   ]
  },
  {
   "cell_type": "code",
   "execution_count": null,
   "id": "bc5e5e56",
   "metadata": {},
   "outputs": [],
   "source": [
    "5%2 "
   ]
  },
  {
   "cell_type": "code",
   "execution_count": null,
   "id": "f09625ef",
   "metadata": {},
   "outputs": [],
   "source": [
    "5%2 > 1 or 4/2 !=2"
   ]
  },
  {
   "cell_type": "code",
   "execution_count": null,
   "id": "7abf35b7",
   "metadata": {},
   "outputs": [],
   "source": [
    "# Create a empty list\n",
    "empty_list = []\n",
    "empty_list"
   ]
  },
  {
   "cell_type": "code",
   "execution_count": null,
   "id": "52022c52",
   "metadata": {},
   "outputs": [],
   "source": [
    "# Nested List\n",
    "my_list =[['Data Science', 'Machine Learning'],[135,232,321]]\n",
    "my_list"
   ]
  },
  {
   "cell_type": "markdown",
   "id": "5be6309a",
   "metadata": {},
   "source": [
    "Accessing elements in a list\n",
    "\n",
    "you can access the list items by referring to the index number\n",
    "\n",
    "indexing: \n",
    "    we use the index operators[]. Ench item in a list has an assigned index value. Note that the index starts from 0 in pyhton and must be an integer\n",
    "    \n",
    "    print the second item of the list\n",
    "    "
   ]
  },
  {
   "cell_type": "code",
   "execution_count": null,
   "id": "247c8803",
   "metadata": {},
   "outputs": [],
   "source": [
    "# define a list\n",
    "course = ['data science', 'machine learning', 'python','html','big data' ]\n",
    "print(course)\n",
    "# access the second item of a list at index 1\n",
    "print(course[0])"
   ]
  },
  {
   "cell_type": "code",
   "execution_count": null,
   "id": "9140a753",
   "metadata": {},
   "outputs": [],
   "source": [
    "# define a list\n",
    "course = ['data science', 'machine learning', 'python','html','big data' ]\n",
    "print(course[-2])"
   ]
  },
  {
   "cell_type": "code",
   "execution_count": null,
   "id": "6a15b952",
   "metadata": {},
   "outputs": [],
   "source": [
    "D = [0 , 1 , 2 , 3 , 0 , 1 , 2 , 3 , 4]\n",
    "\n",
    "D[D[D[D[0]]]]"
   ]
  },
  {
   "cell_type": "code",
   "execution_count": null,
   "id": "e8f16ae9",
   "metadata": {},
   "outputs": [],
   "source": [
    "# define a list\n",
    "list1 = ['Python', 1, 2, 3, 'Data', True] \n",
    "\n",
    "#print the second last element from the list\n",
    "print(list1[-2])"
   ]
  },
  {
   "cell_type": "code",
   "execution_count": null,
   "id": "70e23000",
   "metadata": {},
   "outputs": [],
   "source": [
    "# define a list\n",
    "list1 = ['Python', 1, 2, 3, 'Data', True] \n",
    "\n",
    "#print the frist three element from the list\n",
    "print(list1[0:3])"
   ]
  },
  {
   "cell_type": "code",
   "execution_count": null,
   "id": "604bb591",
   "metadata": {},
   "outputs": [],
   "source": [
    "# define a list\n",
    "list1 = ['Python', 1, 2, 3, 'Data', True] \n",
    "\n",
    "#print the all elements\n",
    "print(list1[:])"
   ]
  },
  {
   "cell_type": "markdown",
   "id": "c70a18c3",
   "metadata": {},
   "source": [
    "\n",
    "# The code you provided will print a sliced portion of the list a. Here's the breakdown of the code:\n",
    "\n",
    "a is a list containing the numbers from 1 to 10.\n",
    "\n",
    "a[2:7:2] is a slicing operation with three components: start, stop, and step.\n",
    "\n",
    "Start: 2 - It starts at index 2 (inclusive), which corresponds to the element 3.\n",
    "Stop: 7 - It stops at index 7 (exclusive), which corresponds to the element 8.\n",
    "Step: 2 - It selects every second element within the specified range.\n",
    "So, the result of a[2:7:2] will be a new list containing every second element from index 2 to 6 (inclusive), which are [3, 5, 7].\n",
    "\n",
    "When you run the code, it will print the list [3, 5, 7]."
   ]
  },
  {
   "cell_type": "code",
   "execution_count": null,
   "id": "a861c49f",
   "metadata": {},
   "outputs": [],
   "source": [
    "a= [1,2,3,4,5,6,7,8,9,10]\n",
    "print(a[2:7:2])"
   ]
  },
  {
   "cell_type": "markdown",
   "id": "c2dddf81",
   "metadata": {},
   "source": [
    "### change item value\n",
    "Refer the index number to change the value of aspecific item"
   ]
  },
  {
   "cell_type": "code",
   "execution_count": null,
   "id": "77886a0b",
   "metadata": {},
   "outputs": [],
   "source": [
    "# define a list\n",
    "course = ['Data science', 'machine learning', 'python','html', 'big data']\n",
    "\n",
    "#change the third item\n",
    "course[3] = 'Stats'\n",
    "course"
   ]
  },
  {
   "cell_type": "markdown",
   "id": "e1bf495a",
   "metadata": {},
   "source": [
    "# List Methods\n",
    "\n",
    "python has a set of built-in methods that you can use on list and arrays\n",
    "\n",
    "python has built-in methods that you can use on list:\n",
    "    \n",
    "    appends()\n",
    "    insert()\n",
    "    extend()\n",
    "    del\n",
    "    remove()\n",
    "    pop()\n",
    "    reverse()\n",
    "    \n",
    "    #list.append(item)\n",
    "    the method list.append(item) will add the element at the end of a list"
   ]
  },
  {
   "cell_type": "markdown",
   "id": "47323c39",
   "metadata": {},
   "source": []
  },
  {
   "cell_type": "code",
   "execution_count": null,
   "id": "247b1ce6",
   "metadata": {},
   "outputs": [],
   "source": [
    "D = [0 , 1 , 2 , 3 , 0 , 1 , 2 , 3 , 4]\n",
    "\n",
    "print(D[0:1]+D[:2]+D[1:3]+D[2:4]+D[-5:-4])"
   ]
  },
  {
   "cell_type": "code",
   "execution_count": null,
   "id": "f3939592",
   "metadata": {},
   "outputs": [],
   "source": [
    "# define a list\n",
    "course = ['Data science', 'machine learning', 'python','html', 'big data']\n",
    "\n",
    "# print first three element from the list\n",
    "course[:3]\n"
   ]
  },
  {
   "cell_type": "code",
   "execution_count": null,
   "id": "2e483296",
   "metadata": {},
   "outputs": [],
   "source": [
    "# define a list\n",
    "course = ['Data science', 'machine learning', 'python','html', 'big data']\n",
    "#print all the elements\n",
    "course[:]"
   ]
  },
  {
   "cell_type": "code",
   "execution_count": null,
   "id": "23b2af47",
   "metadata": {},
   "outputs": [],
   "source": [
    "list1 = ['Python', 1, 2, 3, 'Data', True]\n",
    "print(list1[1::2])"
   ]
  },
  {
   "cell_type": "code",
   "execution_count": null,
   "id": "ae45af6e",
   "metadata": {},
   "outputs": [],
   "source": [
    "# define a list\n",
    "course1 = ['Data science', 'machine learning', 'python','html', 'big data']\n",
    "course2 = ['statistics']\n",
    "#add element to the list\n",
    "course1.append(course2)\n",
    "course1"
   ]
  },
  {
   "cell_type": "markdown",
   "id": "58143497",
   "metadata": {},
   "source": [
    "# list.insert(i,item)\n",
    "This method will insert an element at the ith index in a list"
   ]
  },
  {
   "cell_type": "code",
   "execution_count": null,
   "id": "012296e9",
   "metadata": {},
   "outputs": [],
   "source": [
    "# define a list\n",
    "course1 = ['Data science', 'machine learning', 'python','html', 'big data']\n",
    "\n",
    "# insert element at 2nd index in a list\n",
    "course.insert(2,'statistics')\n",
    "course\n"
   ]
  },
  {
   "cell_type": "markdown",
   "id": "c13a2e96",
   "metadata": {},
   "source": [
    "# List Methods\n",
    "\n",
    "Python has built-In methods that you can use on list: <br>\n",
    "   "
   ]
  },
  {
   "cell_type": "raw",
   "id": "dec2677e",
   "metadata": {},
   "source": [
    " append()<br>\n",
    "    insert()<br>\n",
    "    extend()<br>\n",
    "    del<br>\n",
    "    remove()<br>\n",
    "    pop()<br>\n",
    "    reverse()<br>"
   ]
  },
  {
   "cell_type": "code",
   "execution_count": null,
   "id": "cab981c5",
   "metadata": {},
   "outputs": [],
   "source": [
    "# define a list\n",
    "course1 = ['Data science', 'machine learning', 'statistics','python','html', 'big data']\n",
    "\n",
    "# delete the third element from the list\n",
    "del course1[2]\n",
    "\n",
    "#pint the output\n",
    "course1"
   ]
  },
  {
   "cell_type": "code",
   "execution_count": null,
   "id": "d2256439",
   "metadata": {},
   "outputs": [],
   "source": [
    "# define a list\n",
    "course1 = ['Data science', 'machine learning', 'statistics','python','html', 'big data']\n",
    "\n",
    "# remove element from the list\n",
    "course1.remove('html')\n",
    "\n",
    "#pint the output\n",
    "course1"
   ]
  },
  {
   "cell_type": "code",
   "execution_count": null,
   "id": "53753d86",
   "metadata": {},
   "outputs": [],
   "source": [
    "# define a list\n",
    "course1 = ['Data science', 'machine learning', 'statistics','python','html', 'big data']\n",
    "\n",
    "course1.pop()"
   ]
  },
  {
   "cell_type": "markdown",
   "id": "3a16ba19",
   "metadata": {},
   "source": [
    "#list.reverse()\n",
    "\n",
    "The reverse() method reverses the sorting order of the elements"
   ]
  },
  {
   "cell_type": "code",
   "execution_count": null,
   "id": "5d444a06",
   "metadata": {},
   "outputs": [],
   "source": [
    "# define a list\n",
    "course1 = ['Data science', 'machine learning', 'statistics','python','html', 'big data']\n",
    "\n",
    "course1.reverse()\n",
    "course1"
   ]
  },
  {
   "cell_type": "code",
   "execution_count": null,
   "id": "ce431e2e",
   "metadata": {},
   "outputs": [],
   "source": [
    "a='abcde'\n",
    "\n",
    "b = list(a)\n",
    "\n",
    "c = list(range(len(a)))\n",
    "\n",
    "c.extend(b)\n",
    "\n",
    "print(c)"
   ]
  },
  {
   "cell_type": "code",
   "execution_count": null,
   "id": "5b3bfe54",
   "metadata": {},
   "outputs": [],
   "source": [
    "list1 = [4, 5, 7, -2, 0, 1] \n",
    "max(list1)"
   ]
  },
  {
   "cell_type": "markdown",
   "id": "8b9bb361",
   "metadata": {},
   "source": [
    "# 2. Introduction to tuple\n",
    "\n",
    "# creating Tuple\n",
    "\n",
    "Here, we are creating few tuples, we can have tuple of same type of data items as well as mixed type of data items"
   ]
  },
  {
   "cell_type": "code",
   "execution_count": null,
   "id": "1a541b5d",
   "metadata": {},
   "outputs": [],
   "source": [
    "# tuple of int, float,string\n",
    "my_tuple = (123,2.228,\"Hello Python\")\n",
    "print(my_tuple)"
   ]
  },
  {
   "cell_type": "code",
   "execution_count": null,
   "id": "4107c3a9",
   "metadata": {},
   "outputs": [],
   "source": [
    "my_tuple = (123, ['s','a','v'], 'world')\n",
    "print(my_tuple)\n",
    "\n",
    "#changing the element of the list\n",
    "# this is valid because list is mutable\n",
    "my_tuple[1][2] = 102\n",
    "print(my_tuple)"
   ]
  },
  {
   "cell_type": "markdown",
   "id": "148e5831",
   "metadata": {},
   "source": [
    " # Tuple Methods\n",
    "    \n",
    "    Python has two built-in methods that you can use on tuples:\n",
    "        \n",
    "    count()\n",
    "    index()\n",
    "    sorted()\n",
    "    \n",
    "    # Count()\n",
    "    \n",
    "    Returns the number of times a specified value occurs in a tuple"
   ]
  },
  {
   "cell_type": "code",
   "execution_count": null,
   "id": "862a572e",
   "metadata": {},
   "outputs": [],
   "source": [
    "my_tuple = ('a', 'p','p','l','e','e','d','e','d','e','a','c','w')\n",
    "my_tuple.count('e')"
   ]
  },
  {
   "cell_type": "markdown",
   "id": "61dbe14d",
   "metadata": {},
   "source": [
    "# index()\n",
    "searches the tuple for a specified value and returns the position of where it was found"
   ]
  },
  {
   "cell_type": "code",
   "execution_count": null,
   "id": "6be4f43c",
   "metadata": {},
   "outputs": [],
   "source": [
    "my_tuple = ('a', 'p','p','l','e','e','d','e','d','e','a','c','w')\n",
    "my_tuple.index('p')"
   ]
  },
  {
   "cell_type": "markdown",
   "id": "905c1eea",
   "metadata": {},
   "source": [
    "# sorted()\n",
    "it sorts a tuple and always returns a list with the elements in a sorted manner"
   ]
  },
  {
   "cell_type": "code",
   "execution_count": null,
   "id": "b804fa09",
   "metadata": {},
   "outputs": [],
   "source": [
    "my_tuple = (2,3,5,6,7,8,4,9,9,2,3,4,7,)\n",
    "sorted(my_tuple)"
   ]
  },
  {
   "cell_type": "code",
   "execution_count": null,
   "id": "ed19745b",
   "metadata": {},
   "outputs": [],
   "source": [
    "# What will be the result of the following Python Code?\n",
    "\n",
    " #Tuple methods\n",
    "\n",
    "letters = ('a', 'b', 'c', 'd', 'e')\n",
    "\n",
    "index = letters.index('b')\n",
    "\n",
    "print(letters[len(letters) - index])"
   ]
  },
  {
   "cell_type": "markdown",
   "id": "111486a2",
   "metadata": {},
   "source": [
    "\n",
    "In this code, you have a tuple named letters containing the elements ('a', 'b', 'c', 'd', 'e'). Then, you find the index of 'b' within the tuple using the index() method, and store it in the variable index.\n",
    "\n",
    "The index() method returns the first index at which the specified element ('b' in this case) is found in the tuple. In your tuple, 'b' is at index 1 because indexing starts at 0.\n",
    "\n",
    "Next, you use this index variable to access an element from the letters tuple.\n",
    "\n",
    "letters[len(letters) - index] can be rewritten as letters[5 - 1], which is equivalent to letters[4]. So, you are accessing the element at index 4 of the letters tuple, which is 'e'.\n",
    "\n",
    "Therefore, the code will print 'e'."
   ]
  },
  {
   "cell_type": "code",
   "execution_count": null,
   "id": "ad570770",
   "metadata": {},
   "outputs": [],
   "source": [
    "# What will be the result of the following Python Code?\n",
    "\n",
    "# Tuple methods\n",
    "\n",
    "letters = ('a', 'b', 'c', 'd', 'e')\n",
    "\n",
    "index = letters.count('e')\n",
    "\n",
    "print(letters[index])"
   ]
  },
  {
   "cell_type": "markdown",
   "id": "5a839365",
   "metadata": {},
   "source": [
    "\n",
    "In this code, you have a tuple named letters containing the elements ('a', 'b', 'c', 'd', 'e'). Then, you use the count() method to count the occurrences of 'e' in the letters tuple and store the result in the variable index.\n",
    "\n",
    "The count() method returns the number of times a specified element ('e' in this case) appears in the tuple. In your tuple, 'e' appears once.\n",
    "\n",
    "So, index will be assigned the value 1 because 'e' appears once in the letters tuple.\n",
    "\n",
    "Next, you try to access an element from the letters tuple using this index variable.\n",
    "\n",
    "letters[index] is equivalent to letters[1]. So, you are attempting to access the element at index 1 of the letters tuple, which is 'b'.\n",
    "\n",
    "However, there's an issue with the code. It's trying to access 'b' because the index variable is 1, but it appears you intended to access 'e'. To do that, you should use index - 1 because indexing starts at 0. Here's the corrected code:"
   ]
  },
  {
   "cell_type": "markdown",
   "id": "151d4180",
   "metadata": {},
   "source": [
    "# 3. Introduction to Dictionary\n",
    "\n",
    "General syntax of dictionary:\n",
    "dictionary_name = {key_1:value_1,\n",
    "                   key_2:value_2,\n",
    "                   key_3:value_3,\n",
    "                  }\n",
    "# Create Dictionary\n",
    "separate keys from values with a colon(:) , and a pair from another by a comma(,). put it all in curly braces"
   ]
  },
  {
   "cell_type": "code",
   "execution_count": null,
   "id": "eec76b27",
   "metadata": {},
   "outputs": [],
   "source": [
    "# create dictionary\n",
    "\n",
    "balance = {\n",
    "    \"Mia\" : 83847,\n",
    "    \"John\" : 83837,\n",
    "    \"Jill\" : 94766\n",
    "}\n",
    "print(balance)"
   ]
  },
  {
   "cell_type": "code",
   "execution_count": null,
   "id": "1df7ab5c",
   "metadata": {},
   "outputs": [],
   "source": [
    "Dict = { 0 : [], 1 : [1], 2: [2, 2], 3: [3, 3, 3]}\n",
    "\n",
    "print(Dict)"
   ]
  },
  {
   "cell_type": "markdown",
   "id": "88323324",
   "metadata": {},
   "source": [
    "# Accessing items\n",
    "\n",
    "you can access the items of a dictionary by referring to its key name,inside square brackets"
   ]
  },
  {
   "cell_type": "code",
   "execution_count": null,
   "id": "491f8688",
   "metadata": {},
   "outputs": [],
   "source": [
    "# Get the value of 'Mia' key\n",
    "\n",
    "x = balance.get(\"Mia\")\n",
    "x"
   ]
  },
  {
   "cell_type": "code",
   "execution_count": null,
   "id": "ae14f0ca",
   "metadata": {},
   "outputs": [],
   "source": [
    "# What will be the output for the following code?\n",
    "\n",
    "Dict = {'A1': 'A1',\n",
    "        'A2': 'A2',\n",
    "        'A3': {\n",
    "            'A1': 'A1',\n",
    "            'A2': 'A2',\n",
    "            'A3': 'A3'\n",
    "        }\n",
    "       }\n",
    "\n",
    "print(Dict['A3']['A3'])"
   ]
  },
  {
   "cell_type": "markdown",
   "id": "243f0afd",
   "metadata": {},
   "source": [
    "# Change Values\n",
    "\n",
    "you can change the value of a specific element by referring to its key name\n"
   ]
  },
  {
   "cell_type": "code",
   "execution_count": null,
   "id": "5578e1ee",
   "metadata": {},
   "outputs": [],
   "source": [
    "# Create a dictionary\n",
    "\n",
    "year_sales = {\n",
    "    2015 : 34500,\n",
    "    2016 : 34300,\n",
    "    2017 : 40000\n",
    "}\n",
    "year_sales"
   ]
  },
  {
   "cell_type": "code",
   "execution_count": null,
   "id": "bf988052",
   "metadata": {},
   "outputs": [],
   "source": [
    "#change Sales figure for 2015\n",
    "year_sales[2015] = 45000\n",
    "year_sales"
   ]
  },
  {
   "cell_type": "markdown",
   "id": "d31f6695",
   "metadata": {},
   "source": [
    "# Dictionary Length"
   ]
  },
  {
   "cell_type": "code",
   "execution_count": null,
   "id": "9e255963",
   "metadata": {},
   "outputs": [],
   "source": [
    "# Print the length of dictionary\n",
    "\n",
    "print(len(year_sales))"
   ]
  },
  {
   "cell_type": "markdown",
   "id": "ac16d8b1",
   "metadata": {},
   "source": [
    "# adding items\n",
    "Adding an item to the dictionary is done by using a new index key and assigning a value to it"
   ]
  },
  {
   "cell_type": "code",
   "execution_count": null,
   "id": "f7ef8a03",
   "metadata": {},
   "outputs": [],
   "source": [
    "#create a dictionary\n",
    "years_sales = {\n",
    "    2015 : 34500,\n",
    "    2016 : 34300,\n",
    "    2017 : 40000\n",
    "}\n",
    "year_sales[2018]= 55000\n",
    "year_sales"
   ]
  },
  {
   "cell_type": "code",
   "execution_count": null,
   "id": "1931f82a",
   "metadata": {},
   "outputs": [],
   "source": [
    "# What will be the output for the following code?\n",
    "\n",
    "A=['A', 'B', 'C', 'D', 'E']\n",
    "\n",
    "B={}\n",
    "\n",
    "B.keys() = A\n",
    "\n",
    "B.values()=A\n",
    "\n",
    "A=B\n",
    "\n",
    "print(A)"
   ]
  },
  {
   "cell_type": "code",
   "execution_count": null,
   "id": "bd97e5c9",
   "metadata": {},
   "outputs": [],
   "source": [
    "#create a dictionary\n",
    "years_sales = {\n",
    "    2015 : 34500,\n",
    "    2016 : 34300,\n",
    "    2017 : 40000\n",
    "}\n",
    "\n",
    "# remove key from dictionary\n",
    "years_sales.pop(2015)\n",
    "years_sales"
   ]
  },
  {
   "cell_type": "markdown",
   "id": "ad176ab9",
   "metadata": {},
   "source": [
    "# copy()\n",
    "you cannot copy a dictionary simply by typing dict2 = dict1,because dict2 will only be a refrence to dict1, and changes made in dict1 will automatically also be made in dict2\n",
    "you can use copy() method to make copy of dictionary"
   ]
  },
  {
   "cell_type": "code",
   "execution_count": null,
   "id": "05f34c59",
   "metadata": {},
   "outputs": [],
   "source": [
    "#create a dictionary\n",
    "years_sales1 = {\n",
    "    2015 : 34500,\n",
    "    2016 : 34300,\n",
    "    2017 : 40000\n",
    "}\n",
    "#make a copy of dictionary\n",
    "copy_dict = years_sales1.copy()\n",
    "copy_dict"
   ]
  },
  {
   "cell_type": "markdown",
   "id": "86b059c4",
   "metadata": {},
   "source": [
    "# sorted()\n",
    "\n",
    "Return a new sorted list of keys in the dictionary"
   ]
  },
  {
   "cell_type": "code",
   "execution_count": null,
   "id": "af15667d",
   "metadata": {},
   "outputs": [],
   "source": [
    "Square = {1:1,3:9,6:25,7:49,9:81,1:25}\n",
    "sorted(Square)"
   ]
  },
  {
   "cell_type": "code",
   "execution_count": null,
   "id": "4308fc94",
   "metadata": {},
   "outputs": [],
   "source": []
  },
  {
   "cell_type": "code",
   "execution_count": null,
   "id": "b67a9758",
   "metadata": {},
   "outputs": [],
   "source": []
  }
 ],
 "metadata": {
  "kernelspec": {
   "display_name": "Python 3 (ipykernel)",
   "language": "python",
   "name": "python3"
  },
  "language_info": {
   "codemirror_mode": {
    "name": "ipython",
    "version": 3
   },
   "file_extension": ".py",
   "mimetype": "text/x-python",
   "name": "python",
   "nbconvert_exporter": "python",
   "pygments_lexer": "ipython3",
   "version": "3.9.13"
  }
 },
 "nbformat": 4,
 "nbformat_minor": 5
}
