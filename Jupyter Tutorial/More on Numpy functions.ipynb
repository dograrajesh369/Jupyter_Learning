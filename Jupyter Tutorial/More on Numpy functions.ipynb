{
 "cells": [
  {
   "cell_type": "code",
   "execution_count": 1,
   "id": "0616fe9f",
   "metadata": {},
   "outputs": [],
   "source": [
    "import numpy as np"
   ]
  },
  {
   "cell_type": "markdown",
   "id": "2e6604be",
   "metadata": {},
   "source": [
    "### making two demensional array"
   ]
  },
  {
   "cell_type": "code",
   "execution_count": 2,
   "id": "bf038e06",
   "metadata": {},
   "outputs": [],
   "source": [
    "arr1 = np.array([[2,3,4,5],[3,7,5,9]])"
   ]
  },
  {
   "cell_type": "markdown",
   "id": "c440cca5",
   "metadata": {},
   "source": [
    "#### if i put axis = 1 it will sum all the 'X' axis value in a list (and it means row wise)"
   ]
  },
  {
   "cell_type": "code",
   "execution_count": 3,
   "id": "4adf6781",
   "metadata": {},
   "outputs": [
    {
     "data": {
      "text/plain": [
       "array([14, 24])"
      ]
     },
     "execution_count": 3,
     "metadata": {},
     "output_type": "execute_result"
    }
   ],
   "source": [
    "arr1.sum(axis = 1)"
   ]
  },
  {
   "cell_type": "markdown",
   "id": "338c5b68",
   "metadata": {},
   "source": [
    "#### if i put axis = 0 it will sum all the 'Y' axis value in a list (in simple term colon wise)"
   ]
  },
  {
   "cell_type": "code",
   "execution_count": 4,
   "id": "6d9f6752",
   "metadata": {},
   "outputs": [
    {
     "data": {
      "text/plain": [
       "array([ 5, 10,  9, 14])"
      ]
     },
     "execution_count": 4,
     "metadata": {},
     "output_type": "execute_result"
    }
   ],
   "source": [
    "arr1.sum(axis = 0)"
   ]
  },
  {
   "cell_type": "code",
   "execution_count": 5,
   "id": "f7015797",
   "metadata": {},
   "outputs": [],
   "source": [
    "b = np.array([[7,8,9,4],[2,8,0,1]])"
   ]
  },
  {
   "cell_type": "code",
   "execution_count": 6,
   "id": "115017d5",
   "metadata": {},
   "outputs": [],
   "source": [
    "b1 = np.array([[7,8,9],[2,8,1]])"
   ]
  },
  {
   "cell_type": "code",
   "execution_count": 7,
   "id": "f4d32842",
   "metadata": {},
   "outputs": [
    {
     "data": {
      "text/plain": [
       "array([[ 94,  33],\n",
       "       [158,  71]])"
      ]
     },
     "execution_count": 7,
     "metadata": {},
     "output_type": "execute_result"
    }
   ],
   "source": [
    "arr1.dot(b.transpose())"
   ]
  },
  {
   "cell_type": "code",
   "execution_count": 8,
   "id": "32153f5a",
   "metadata": {},
   "outputs": [],
   "source": [
    "# dir(arr1)"
   ]
  },
  {
   "cell_type": "code",
   "execution_count": 9,
   "id": "8724cbe7",
   "metadata": {},
   "outputs": [],
   "source": [
    "arr2 = np.array([[2,3,4],[3,7,5]])"
   ]
  },
  {
   "cell_type": "code",
   "execution_count": 10,
   "id": "38ec628c",
   "metadata": {},
   "outputs": [
    {
     "data": {
      "text/plain": [
       "array([[ -5,  10,  -5],\n",
       "       [-33,   7,  10]])"
      ]
     },
     "execution_count": 10,
     "metadata": {},
     "output_type": "execute_result"
    }
   ],
   "source": [
    "np.cross(arr2,b1)"
   ]
  },
  {
   "cell_type": "code",
   "execution_count": 11,
   "id": "5f11b0b3",
   "metadata": {},
   "outputs": [
    {
     "data": {
      "text/plain": [
       "array([[2, 3, 4],\n",
       "       [3, 5, 7]])"
      ]
     },
     "execution_count": 11,
     "metadata": {},
     "output_type": "execute_result"
    }
   ],
   "source": [
    "np.sort(arr2)"
   ]
  }
 ],
 "metadata": {
  "kernelspec": {
   "display_name": "Python 3 (ipykernel)",
   "language": "python",
   "name": "python3"
  },
  "language_info": {
   "codemirror_mode": {
    "name": "ipython",
    "version": 3
   },
   "file_extension": ".py",
   "mimetype": "text/x-python",
   "name": "python",
   "nbconvert_exporter": "python",
   "pygments_lexer": "ipython3",
   "version": "3.9.13"
  }
 },
 "nbformat": 4,
 "nbformat_minor": 5
}
